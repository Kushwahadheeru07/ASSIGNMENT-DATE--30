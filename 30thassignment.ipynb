{
 "cells": [
  {
   "cell_type": "code",
   "execution_count": 6,
   "id": "1244aaa5",
   "metadata": {},
   "outputs": [
    {
     "name": "stdout",
     "output_type": "stream",
     "text": [
      "Enter your percentage:98\n",
      "Grade:A\n"
     ]
    }
   ],
   "source": [
    "percentage=int(input(\"Enter your percentage:\"))\n",
    "\n",
    "if percentage>90:\n",
    "    print('Grade:A')\n",
    "elif percentage>80 and percentage<=90:\n",
    "    print('Grade:B')\n",
    "elif percentage>=60 and percentage<=80:\n",
    "    print('Grade:C')\n",
    "else:\n",
    "    print('Grade:D')"
   ]
  },
  {
   "cell_type": "code",
   "execution_count": 8,
   "id": "b9876dab",
   "metadata": {},
   "outputs": [
    {
     "name": "stdout",
     "output_type": "stream",
     "text": [
      "Cost price of bike:500009\n",
      "Added tax of 15%: 75001.34999999999\n"
     ]
    }
   ],
   "source": [
    "price=int(input('Cost price of bike:'))\n",
    "\n",
    "if price>100000:\n",
    "    print('Added tax of 15%:',0.15*price)\n",
    "elif price>50000 and price<=100000:\n",
    "    print('Added tax of 10%',0.1*price)\n",
    "elif price<=50000:\n",
    "    print('Added tax of 5%',0.05*price)\n"
   ]
  },
  {
   "cell_type": "code",
   "execution_count": 9,
   "id": "b1316dea",
   "metadata": {},
   "outputs": [
    {
     "name": "stdout",
     "output_type": "stream",
     "text": [
      "Enter city i.e. Delhi,Agra,jaipur and i will show you monument of that city:delhi\n",
      "Delhi monument:Red Fort\n"
     ]
    }
   ],
   "source": [
    "city=input('Enter city i.e. Delhi,Agra,jaipur and i will show you monument of that city:')\n",
    "\n",
    "if city=='Delhi' or city=='delhi': \n",
    "    print('Delhi monument:Red Fort')\n",
    "elif city=='Agra' or city=='agra':\n",
    "    print('Agra monument:Taj Mahal')\n",
    "elif city=='jaipur' or city == 'Jaipur':\n",
    "    print('jaipur monument:Jai Mahal')\n",
    "else:\n",
    "    print('Record of this city not uploaded')"
   ]
  },
  {
   "cell_type": "code",
   "execution_count": 1,
   "id": "6deba163",
   "metadata": {},
   "outputs": [
    {
     "name": "stdout",
     "output_type": "stream",
     "text": [
      "Enter your number:10\n"
     ]
    },
    {
     "data": {
      "text/plain": [
       "11"
      ]
     },
     "execution_count": 1,
     "metadata": {},
     "output_type": "execute_result"
    }
   ],
   "source": [
    "number=int(input('Enter your number:'))\n",
    "count=0\n",
    "\n",
    "for s in range(0,number+1):\n",
    "    if s%3<=10:\n",
    "        count=count+1\n",
    "count\n",
    "\n",
    "    "
   ]
  },
  {
   "cell_type": "code",
   "execution_count": null,
   "id": "076f5d47",
   "metadata": {},
   "outputs": [],
   "source": [
    "4.check how many times a given number can be,\n",
    "divided by 3 before its less than or equal to 10."
   ]
  },
  {
   "cell_type": "code",
   "execution_count": 23,
   "id": "004f1079",
   "metadata": {},
   "outputs": [
    {
     "name": "stdout",
     "output_type": "stream",
     "text": [
      "enter your number:20\n",
      "3\n"
     ]
    }
   ],
   "source": [
    "number=int(input(\"enter your number:\"))\n",
    "count=0\n",
    "for a in range(1,number):\n",
    "    if a%3==0 and a<=10:\n",
    "        count=count+1\n",
    "print(count)    \n",
    "\n",
    "\n"
   ]
  },
  {
   "cell_type": "code",
   "execution_count": null,
   "id": "85ffa2c7",
   "metadata": {},
   "outputs": [],
   "source": [
    "5. when and why to use while loop in python,\n",
    "give a detail decription with example."
   ]
  },
  {
   "cell_type": "code",
   "execution_count": null,
   "id": "73d20d95",
   "metadata": {},
   "outputs": [],
   "source": [
    "While loop allows a programmer to repeat,\n",
    "a single statement or a group of statements for the TRUE condition.\n",
    "It verifies the condition before executing the loop."
   ]
  },
  {
   "cell_type": "code",
   "execution_count": null,
   "id": "1cf02006",
   "metadata": {},
   "outputs": [],
   "source": [
    "#example"
   ]
  },
  {
   "cell_type": "code",
   "execution_count": 24,
   "id": "94940089",
   "metadata": {},
   "outputs": [
    {
     "name": "stdout",
     "output_type": "stream",
     "text": [
      "Enter no of digit which you want too add:10\n"
     ]
    },
    {
     "data": {
      "text/plain": [
       "55"
      ]
     },
     "execution_count": 24,
     "metadata": {},
     "output_type": "execute_result"
    }
   ],
   "source": [
    "number=int(input(\"Enter no of digit which you want too add:\"))\n",
    "starting_point=0\n",
    "counter=1\n",
    "while counter<=number:\n",
    "    starting_point=starting_point+counter\n",
    "    counter=counter+1\n",
    "starting_point"
   ]
  },
  {
   "cell_type": "code",
   "execution_count": null,
   "id": "1923d5c3",
   "metadata": {},
   "outputs": [],
   "source": [
    "using while else"
   ]
  },
  {
   "cell_type": "code",
   "execution_count": 4,
   "id": "09f6d5c4",
   "metadata": {},
   "outputs": [
    {
     "name": "stdout",
     "output_type": "stream",
     "text": [
      "1\n",
      "2\n",
      "3\n"
     ]
    }
   ],
   "source": [
    "n=1\n",
    "i=10\n",
    "while n<=i:\n",
    "    print(n)\n",
    "    if n==3:\n",
    "        break\n",
    "    n=n+1\n",
    "else:\n",
    "    print(\"do something\")"
   ]
  },
  {
   "cell_type": "code",
   "execution_count": 1,
   "id": "0ccbaab1",
   "metadata": {},
   "outputs": [
    {
     "name": "stdout",
     "output_type": "stream",
     "text": [
      "1\n",
      "2\n",
      "3\n",
      "4\n",
      "5\n",
      "6\n",
      "7\n",
      "8\n",
      "9\n",
      "10\n",
      "do something\n"
     ]
    }
   ],
   "source": [
    "n=1\n",
    "i=10\n",
    "while n<=i:\n",
    "    print(n)\n",
    "    \n",
    "    n=n+1\n",
    "else:\n",
    "    print(\"do something\")"
   ]
  },
  {
   "cell_type": "code",
   "execution_count": null,
   "id": "14aea9ad",
   "metadata": {},
   "outputs": [],
   "source": [
    "6.use nested while loop to print 3 different pattern"
   ]
  },
  {
   "cell_type": "code",
   "execution_count": 5,
   "id": "0172a781",
   "metadata": {},
   "outputs": [
    {
     "name": "stdout",
     "output_type": "stream",
     "text": [
      "Enter your number for n:5\n",
      "Enter your number for m:5\n",
      "*\n",
      "  *\n",
      "    *\n",
      "*\n",
      "  *\n",
      "    *\n",
      "*\n",
      "  *\n",
      "    *\n",
      "*\n",
      "  *\n",
      "    *\n",
      "*\n",
      "  *\n",
      "    *\n"
     ]
    }
   ],
   "source": [
    "n=int(input(\"Enter your number for n:\"))\n",
    "m=int(input(\"Enter your number for m:\"))\n",
    "while n>0:\n",
    "    while m>0:\n",
    "        print(\"*\")\n",
    "        print(\"  *\")\n",
    "        print(\"    *\")\n",
    "        m=m-1\n",
    "    n=n-1"
   ]
  },
  {
   "cell_type": "code",
   "execution_count": 3,
   "id": "8336f1fc",
   "metadata": {},
   "outputs": [
    {
     "name": "stdout",
     "output_type": "stream",
     "text": [
      "*\n",
      "**\n",
      "***\n",
      "****\n",
      "*****\n"
     ]
    }
   ],
   "source": [
    "i=1\n",
    "while i<=5:\n",
    "    j=1\n",
    "    while j<=i:\n",
    "        print(\"*\",end=\"\")\n",
    "        j=j+1\n",
    "    print()\n",
    "    i=i+1"
   ]
  },
  {
   "cell_type": "code",
   "execution_count": 5,
   "id": "de346f5e",
   "metadata": {},
   "outputs": [
    {
     "name": "stdout",
     "output_type": "stream",
     "text": [
      "8\n",
      "88\n",
      "888\n",
      "8888\n",
      "88888\n"
     ]
    }
   ],
   "source": [
    "i = 1\n",
    "while i <= 5:\n",
    "    j = 1\n",
    "    while j <= i:\n",
    "        print(\"8\", end=\"\")\n",
    "        j += 1\n",
    "    print()\n",
    "    i += 1"
   ]
  }
 ],
 "metadata": {
  "kernelspec": {
   "display_name": "Python 3 (ipykernel)",
   "language": "python",
   "name": "python3"
  },
  "language_info": {
   "codemirror_mode": {
    "name": "ipython",
    "version": 3
   },
   "file_extension": ".py",
   "mimetype": "text/x-python",
   "name": "python",
   "nbconvert_exporter": "python",
   "pygments_lexer": "ipython3",
   "version": "3.9.12"
  }
 },
 "nbformat": 4,
 "nbformat_minor": 5
}
